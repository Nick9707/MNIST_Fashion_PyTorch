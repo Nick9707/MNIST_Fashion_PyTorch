{
 "cells": [
  {
   "cell_type": "markdown",
   "metadata": {
    "colab_type": "text",
    "id": "gxvExzniHn99"
   },
   "source": [
    "## Image recognition for MNIST Fashion with Pytorch\n"
   ]
  },
  {
   "cell_type": "code",
   "execution_count": 1,
   "metadata": {
    "colab": {
     "base_uri": "https://localhost:8080/",
     "height": 122
    },
    "colab_type": "code",
    "id": "NUUddWAXqyVk",
    "outputId": "650fdffe-63b4-4d04-f3ac-28faf6f6db4d"
   },
   "outputs": [],
   "source": [
    "import torch\n",
    "import matplotlib.pyplot as plt\n",
    "import plotly.tools as tls\n",
    "import plotly.plotly as py\n",
    "import torch.nn.functional as F\n",
    "import torch.nn as nn\n",
    "from torch import optim\n",
    "from torchvision import datasets, transforms\n",
    "import numpy as np\n",
    "from matplotlib.ticker import MaxNLocator\n",
    "from collections import namedtuple"
   ]
  },
  {
   "cell_type": "code",
   "execution_count": 2,
   "metadata": {
    "colab": {},
    "colab_type": "code",
    "id": "InSN03oizTv9"
   },
   "outputs": [],
   "source": [
    "# Function takes pythorch teensors and shows probabilities barchart and image\n",
    "\n",
    "def showGraph(probabilities, image):\n",
    "  Lables = ['T-shirt/top',\n",
    "          'Trouser',\n",
    "          'Pullover',\n",
    "          'Dress',\n",
    "          'Coat',\n",
    "          'Sandal',\n",
    "          'Shirt',\n",
    "          'Sneaker',\n",
    "          'Bag',\n",
    "          'Ankle Boot']\n",
    "  \n",
    "  n_groups = len(Lables)\n",
    "  show = tuple(probabilities.detach().numpy())\n",
    "  bar_width = 0.4\n",
    "\n",
    "  fig, ax = plt.subplots()\n",
    "  \n",
    "  index = np.arange(n_groups)\n",
    "\n",
    "  rects = ax.barh(index, show, bar_width, align=\"center\",\n",
    "                label='probability')\n",
    "\n",
    "  ax.set_ylabel('Group')\n",
    "  ax.set_xlabel('Scores')\n",
    "  ax.set_yticks(index + bar_width / 2)\n",
    "  ax.set_yticklabels(tuple(Lables))\n",
    "  ax.set_title('Probability')\n",
    "  plt.show()\n",
    "  \n",
    "  image = image.view(28, 28)\n",
    "  plt.imshow(image, interpolation='nearest')\n",
    "  fig.tight_layout()\n",
    "  plt.show()\n"
   ]
  },
  {
   "cell_type": "code",
   "execution_count": 3,
   "metadata": {
    "colab": {
     "base_uri": "https://localhost:8080/",
     "height": 119
    },
    "colab_type": "code",
    "id": "_ADqk86mqyVz",
    "outputId": "fa7f8d4e-ac07-4ce7-eefe-c9842f24529e"
   },
   "outputs": [],
   "source": [
    "\n",
    "# Define a transform to normalize the data\n",
    "transform = transforms.Compose([transforms.ToTensor(),\n",
    "                                transforms.Normalize((0.5, 0.5, 0.5), (0.5, 0.5, 0.5))])\n",
    "# Download and load the training data\n",
    "trainset = datasets.FashionMNIST('F_MNIST_data/', download=True, train=True, transform=transform)\n",
    "trainloader = torch.utils.data.DataLoader(trainset, batch_size=64, shuffle=True)\n",
    "\n",
    "# Download and load the test data\n",
    "testset = datasets.FashionMNIST('F_MNIST_data/', download=True, train=False, transform=transform)\n",
    "testloader = torch.utils.data.DataLoader(testset, batch_size=64, shuffle=True)"
   ]
  },
  {
   "cell_type": "code",
   "execution_count": 4,
   "metadata": {
    "colab": {
     "base_uri": "https://localhost:8080/",
     "height": 347
    },
    "colab_type": "code",
    "id": "M3tj9Pj7qyV5",
    "outputId": "8115b351-ac9b-425c-ca90-effece4e1fa9"
   },
   "outputs": [
    {
     "data": {
      "image/png": "[encoded data removed]",
      "text/plain": [
       "<Figure size 432x288 with 1 Axes>"
      ]
     },
     "metadata": {
      "needs_background": "light"
     },
     "output_type": "display_data"
    }
   ],
   "source": [
    "# Sample image in dataset\n",
    "image, label = next(iter(trainloader))\n",
    "image = image.view(64, 28, 28)\n",
    "plt.imshow(image[0], interpolation='nearest')\n",
    "plt.show()"
   ]
  },
  {
   "cell_type": "code",
   "execution_count": 5,
   "metadata": {
    "colab": {},
    "colab_type": "code",
    "id": "e-QxO9jmqyWD"
   },
   "outputs": [],
   "source": [
    "# Defining neural network structure \n",
    "model = nn.Sequential(nn.Linear(784, 256),\n",
    "                      nn.ReLU(),\n",
    "                      nn.Linear(256,128),\n",
    "                      nn.ReLU(),\n",
    "                      nn.Linear(128, 64),\n",
    "                      nn.ReLU(),\n",
    "                      nn.Linear(64, 10),\n",
    "                      nn.LogSoftmax(dim = 1))\n",
    "criterion = nn.NLLLoss()\n",
    "optimizer = optim.SGD(model.parameters(), lr = 0.003)"
   ]
  },
  {
   "cell_type": "code",
   "execution_count": 6,
   "metadata": {
    "colab": {
     "base_uri": "https://localhost:8080/",
     "height": 527
    },
    "colab_type": "code",
    "id": "RayU2AMdJMYR",
    "outputId": "0fbc63ef-7934-4139-c2ce-fa82328981a1"
   },
   "outputs": [
    {
     "name": "stdout",
     "output_type": "stream",
     "text": [
      "Epoch: 1/30..  Training Loss: 2.132..  Test Loss: 1.723..  Test Accuracy: 0.464\n",
      "Epoch: 2/30..  Training Loss: 1.220..  Test Loss: 0.926..  Test Accuracy: 0.680\n",
      "Epoch: 3/30..  Training Loss: 0.812..  Test Loss: 0.755..  Test Accuracy: 0.729\n",
      "Epoch: 4/30..  Training Loss: 0.692..  Test Loss: 0.668..  Test Accuracy: 0.753\n",
      "Epoch: 5/30..  Training Loss: 0.627..  Test Loss: 0.619..  Test Accuracy: 0.773\n",
      "Epoch: 6/30..  Training Loss: 0.581..  Test Loss: 0.585..  Test Accuracy: 0.789\n",
      "Epoch: 7/30..  Training Loss: 0.546..  Test Loss: 0.556..  Test Accuracy: 0.800\n",
      "Epoch: 8/30..  Training Loss: 0.520..  Test Loss: 0.539..  Test Accuracy: 0.806\n",
      "Epoch: 9/30..  Training Loss: 0.500..  Test Loss: 0.521..  Test Accuracy: 0.811\n",
      "Epoch: 10/30..  Training Loss: 0.484..  Test Loss: 0.514..  Test Accuracy: 0.812\n",
      "Epoch: 11/30..  Training Loss: 0.471..  Test Loss: 0.495..  Test Accuracy: 0.823\n",
      "Epoch: 12/30..  Training Loss: 0.460..  Test Loss: 0.488..  Test Accuracy: 0.824\n",
      "Epoch: 13/30..  Training Loss: 0.451..  Test Loss: 0.477..  Test Accuracy: 0.828\n",
      "Epoch: 14/30..  Training Loss: 0.442..  Test Loss: 0.475..  Test Accuracy: 0.829\n",
      "Epoch: 15/30..  Training Loss: 0.434..  Test Loss: 0.473..  Test Accuracy: 0.831\n",
      "Epoch: 16/30..  Training Loss: 0.427..  Test Loss: 0.462..  Test Accuracy: 0.836\n",
      "Epoch: 17/30..  Training Loss: 0.420..  Test Loss: 0.453..  Test Accuracy: 0.838\n",
      "Epoch: 18/30..  Training Loss: 0.414..  Test Loss: 0.451..  Test Accuracy: 0.839\n",
      "Epoch: 19/30..  Training Loss: 0.408..  Test Loss: 0.447..  Test Accuracy: 0.837\n",
      "Epoch: 20/30..  Training Loss: 0.402..  Test Loss: 0.442..  Test Accuracy: 0.842\n",
      "Epoch: 21/30..  Training Loss: 0.397..  Test Loss: 0.439..  Test Accuracy: 0.843\n",
      "Epoch: 22/30..  Training Loss: 0.392..  Test Loss: 0.454..  Test Accuracy: 0.840\n",
      "Epoch: 23/30..  Training Loss: 0.388..  Test Loss: 0.423..  Test Accuracy: 0.850\n",
      "Epoch: 24/30..  Training Loss: 0.383..  Test Loss: 0.421..  Test Accuracy: 0.849\n",
      "Epoch: 25/30..  Training Loss: 0.379..  Test Loss: 0.424..  Test Accuracy: 0.848\n",
      "Epoch: 26/30..  Training Loss: 0.374..  Test Loss: 0.415..  Test Accuracy: 0.852\n",
      "Epoch: 27/30..  Training Loss: 0.370..  Test Loss: 0.416..  Test Accuracy: 0.851\n",
      "Epoch: 28/30..  Training Loss: 0.366..  Test Loss: 0.408..  Test Accuracy: 0.854\n",
      "Epoch: 29/30..  Training Loss: 0.362..  Test Loss: 0.406..  Test Accuracy: 0.855\n",
      "Epoch: 30/30..  Training Loss: 0.358..  Test Loss: 0.404..  Test Accuracy: 0.855\n"
     ]
    }
   ],
   "source": [
    "# Training network\n",
    "train_losses, test_losses = [], []\n",
    "epochs = 30\n",
    "for e in range(epochs):\n",
    "    running_loss = 0\n",
    "    for images, labels in trainloader:\n",
    "        images = images.view(images.shape[0], -1)\n",
    "        \n",
    "        optimizer.zero_grad()\n",
    "        output = model(images)\n",
    "        \n",
    "        loss = criterion(output, labels)\n",
    "        loss.backward()\n",
    "        \n",
    "        running_loss += loss.item()\n",
    "        optimizer.step()\n",
    "    else:\n",
    "        test_loss = 0\n",
    "        accuracy = 0\n",
    "        \n",
    "        # Turn off gradients for validation, saves memory and computations\n",
    "        with torch.no_grad():\n",
    "            for images, labls in testloader:\n",
    "                images = images.view(images.shape[0], -1)\n",
    "                \n",
    "                log_ps = model(images)\n",
    "                test_loss += criterion(log_ps, labls)\n",
    "                \n",
    "                ps = torch.exp(log_ps)\n",
    "                top_p, top_class = ps.topk(1, dim=1)\n",
    "                equals = top_class == labls.view(*top_class.shape)\n",
    "                accuracy += torch.mean(equals.type(torch.FloatTensor))\n",
    "        # Averadge train loss and test loss\n",
    "        train_losses.append(running_loss/len(trainloader))\n",
    "        test_losses.append(test_loss/len(testloader))\n",
    "\n",
    "        print(\"Epoch: {}/{}.. \".format(e+1, epochs),\n",
    "              \"Training Loss: {:.3f}.. \".format(running_loss/len(trainloader)),\n",
    "              \"Test Loss: {:.3f}.. \".format(test_loss/len(testloader)),\n",
    "              \"Test Accuracy: {:.3f}\".format(accuracy/len(testloader)))\n",
    "\n",
    "out = torch.exp(output)\n"
   ]
  },
  {
   "cell_type": "code",
   "execution_count": 7,
   "metadata": {
    "colab": {
     "base_uri": "https://localhost:8080/",
     "height": 231
    },
    "colab_type": "code",
    "id": "-8hLbIe1qyWT",
    "outputId": "c42cd0b2-d327-4aff-a71e-e7a5855b8a17"
   },
   "outputs": [
    {
     "name": "stdout",
     "output_type": "stream",
     "text": [
      "Train accuracy: 90.625%\n",
      "Test accuracy: 93.75%\n"
     ]
    }
   ],
   "source": [
    "# Show training and validation accuracy\n",
    "top_p, top_class = out.topk(1, dim=1)\n",
    "\n",
    "equals = top_class == labels.view(*top_class.shape)\n",
    "accuracy = torch.mean(equals.type(torch.FloatTensor))\n",
    "print(f'Train accuracy: {accuracy*100}%')\n",
    "\n",
    "\n",
    "for images, lables in testloader:\n",
    "    images = images.view(images.shape[0], -1)\n",
    "\n",
    "output = model(images)\n",
    "out = torch.exp(output)\n",
    "top_p, top_class = out.topk(1, dim=1)\n",
    "\n",
    "equals = top_class == lables.view(*top_class.shape)\n",
    "accuracy = torch.mean(equals.type(torch.FloatTensor))\n",
    "print(f'Test accuracy: {accuracy*100}%')"
   ]
  },
  {
   "cell_type": "code",
   "execution_count": 8,
   "metadata": {
    "colab": {
     "base_uri": "https://localhost:8080/",
     "height": 542
    },
    "colab_type": "code",
    "id": "4FjJ_FMH0FHc",
    "outputId": "a92f8ab4-d4ec-401f-b36f-c58d83647c1d"
   },
   "outputs": [
    {
     "data": {
      "image/png": "[encoded data removed]",
      "text/plain": [
       "<Figure size 432x288 with 1 Axes>"
      ]
     },
     "metadata": {
      "needs_background": "light"
     },
     "output_type": "display_data"
    },
    {
     "data": {
      "image/png": "[encoded data removed]",
      "text/plain": [
       "<Figure size 432x288 with 1 Axes>"
      ]
     },
     "metadata": {
      "needs_background": "light"
     },
     "output_type": "display_data"
    }
   ],
   "source": [
    "# Example of classification and picture of classified object\n",
    "showGraph(out[0], images[0])"
   ]
  },
  {
   "cell_type": "code",
   "execution_count": 9,
   "metadata": {
    "colab": {
     "base_uri": "https://localhost:8080/",
     "height": 282
    },
    "colab_type": "code",
    "id": "MUcoiuYRqyWY",
    "outputId": "dfd4f9b1-4f23-4f4d-c534-aa42b4448ed5"
   },
   "outputs": [
    {
     "data": {
      "text/plain": [
       "<matplotlib.legend.Legend at 0x7f8ceee150f0>"
      ]
     },
     "execution_count": 9,
     "metadata": {},
     "output_type": "execute_result"
    },
    {
     "data": {
      "image/png": "[encoded data removed]",
      "text/plain": [
       "<Figure size 432x288 with 1 Axes>"
      ]
     },
     "metadata": {
      "image/png": {
       "height": 250,
       "width": 380
      },
      "needs_background": "light"
     },
     "output_type": "display_data"
    }
   ],
   "source": [
    "#Print graph for validation and training losses\n",
    "%matplotlib inline\n",
    "%config InlineBackend.figure_format = 'retina'\n",
    "\n",
    "\n",
    "plt.plot(train_losses, label='Training loss')\n",
    "plt.plot(test_losses, label='Validation loss')\n",
    "plt.legend(frameon=False)"
   ]
  }
 ],
 "metadata": {
  "colab": {
   "collapsed_sections": [],
   "name": "Clothes Recognition.ipynb",
   "provenance": [],
   "version": "0.3.2"
  },
  "kernelspec": {
   "display_name": "Python 3",
   "language": "python",
   "name": "python3"
  },
  "language_info": {
   "codemirror_mode": {
    "name": "ipython",
    "version": 3
   },
   "file_extension": ".py",
   "mimetype": "text/x-python",
   "name": "python",
   "nbconvert_exporter": "python",
   "pygments_lexer": "ipython3",
   "version": "3.7.2"
  }
 },
 "nbformat": 4,
 "nbformat_minor": 1
}
